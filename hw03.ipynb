{
 "cells": [
  {
   "cell_type": "markdown",
   "metadata": {},
   "source": [
    "## HW03 Code\n",
    "\n",
    "\n",
    "You will complete the following notebook, as described in the PDF for Homework 03 (included in the download with the starter code).  You will submit:\n",
    "1. This notebook file, along with your COLLABORATORS.txt file, to the Gradescope link for code.\n",
    "2. A PDF of this notebook and all of its output, once it is completed, to the Gradescope link for the PDF.\n",
    "\n",
    "\n",
    "Please report any questions to the [class Piazza page](piazza.com/tufts/summer2021/cs135).\n",
    "\n",
    "### Import required libraries."
   ]
  },
  {
   "cell_type": "code",
   "execution_count": 237,
   "metadata": {},
   "outputs": [
    {
     "name": "stderr",
     "output_type": "stream",
     "text": [
      "C:\\Users\\adity\\AppData\\Local\\Temp\\ipykernel_15188\\1357724205.py:14: MatplotlibDeprecationWarning: The seaborn styles shipped by Matplotlib are deprecated since 3.6, as they no longer correspond to the styles shipped by seaborn. However, they will remain available as 'seaborn-v0_8-<style>'. Alternatively, directly use the seaborn API instead.\n",
      "  plt.style.use('seaborn') # pretty matplotlib plots\n"
     ]
    }
   ],
   "source": [
    "import os\n",
    "import numpy as np\n",
    "import pandas as pd\n",
    "\n",
    "import warnings\n",
    "\n",
    "import sklearn.linear_model\n",
    "import sklearn.metrics\n",
    "import sklearn.calibration\n",
    "\n",
    "from matplotlib import pyplot as plt\n",
    "import seaborn as sns\n",
    "%matplotlib inline\n",
    "plt.style.use('seaborn') # pretty matplotlib plots"
   ]
  },
  {
   "cell_type": "markdown",
   "metadata": {},
   "source": [
    "### Function for later use\n",
    "This function will compute and return a confusion matrix on data, given probabilistic predictions, and a threshold to use when converting probabilities to \"firm\" predictions.\n",
    "\n",
    "***Don't change this function.***"
   ]
  },
  {
   "cell_type": "code",
   "execution_count": 238,
   "metadata": {},
   "outputs": [],
   "source": [
    "def calc_confusion_matrix_for_threshold(ytrue_N, yproba1_N, thresh=0.5):\n",
    "    ''' Compute the confusion matrix for a given probabilistic classifier and threshold\n",
    "    \n",
    "    Args\n",
    "    ----\n",
    "    ytrue_N : 1D array of floats\n",
    "        Each entry represents the binary value (0 or 1) of 'true' label of one example\n",
    "        One entry per example in current dataset\n",
    "    yproba1_N : 1D array of floats\n",
    "        Each entry represents a probability (between 0 and 1) that correct label is positive (1)\n",
    "        One entry per example in current dataset\n",
    "        Needs to be same size as ytrue_N\n",
    "    thresh : float\n",
    "        Scalar threshold for converting probabilities into hard decisions\n",
    "        Calls an example \"positive\" if yproba1 >= thresh\n",
    "        Default value reflects a majority-classification approach (class is the one that gets\n",
    "        highest probability)\n",
    "\n",
    "    Returns\n",
    "    -------\n",
    "    cm_df : Pandas DataFrame\n",
    "        Can be printed like print(cm_df) to easily display results\n",
    "    '''\n",
    "    cm = sklearn.metrics.confusion_matrix(ytrue_N, yproba1_N >= thresh)\n",
    "    cm_df = pd.DataFrame(data=cm, columns=[0, 1], index=[0, 1])\n",
    "    cm_df.columns.name = 'Predicted'\n",
    "    cm_df.index.name = 'True'\n",
    "    return cm_df"
   ]
  },
  {
   "cell_type": "markdown",
   "metadata": {},
   "source": [
    "## Cancer-Risk Screening\n",
    "\n",
    "### 1: Compute true/false positives/negatives.\n",
    "\n",
    "Complete the following code."
   ]
  },
  {
   "cell_type": "code",
   "execution_count": 239,
   "metadata": {},
   "outputs": [],
   "source": [
    "def calc_TP_TN_FP_FN(ytrue_N, yhat_N):\n",
    "    '''\n",
    "    \n",
    "    Args\n",
    "    ----\n",
    "    ytrue_N : 1D array of floats\n",
    "        Each entry represents the binary value (0 or 1) of 'true' label of one example\n",
    "        One entry per example in current dataset\n",
    "    yhat_N : 1D array of floats\n",
    "        Each entry represents a predicted binary value (either 0 or 1).\n",
    "        One entry per example in current dataset.\n",
    "        Needs to be same size as ytrue_N.\n",
    "\n",
    "    Returns\n",
    "    -------\n",
    "    TP : int\n",
    "        Number of true positives\n",
    "    TN : int\n",
    "        Number of true negatives\n",
    "    FP : int\n",
    "        Number of false positives\n",
    "    FN : int\n",
    "        Number of false negatives\n",
    "    '''\n",
    "    \n",
    "    TP = np.sum((ytrue_N == 1) & (yhat_N == 1))\n",
    "    TN = np.sum((ytrue_N == 0) & (yhat_N == 0))\n",
    "    FP = np.sum((ytrue_N == 0) & (yhat_N == 1))\n",
    "    FN = np.sum((ytrue_N == 1) & (yhat_N == 0))\n",
    "    \n",
    "    return TP, TN, FP, FN"
   ]
  },
  {
   "cell_type": "markdown",
   "metadata": {},
   "source": [
    "#### Testing code\n",
    "The following four calls to the function above test your results.  ***Don't modify this.***"
   ]
  },
  {
   "cell_type": "code",
   "execution_count": 240,
   "metadata": {},
   "outputs": [
    {
     "data": {
      "text/plain": [
       "(0, 0, 10, 0)"
      ]
     },
     "execution_count": 240,
     "metadata": {},
     "output_type": "execute_result"
    }
   ],
   "source": [
    "all0 = np.zeros(10)\n",
    "all1 = np.ones(10)\n",
    "calc_TP_TN_FP_FN(all0, all1)"
   ]
  },
  {
   "cell_type": "code",
   "execution_count": 241,
   "metadata": {},
   "outputs": [
    {
     "data": {
      "text/plain": [
       "(0, 0, 0, 10)"
      ]
     },
     "execution_count": 241,
     "metadata": {},
     "output_type": "execute_result"
    }
   ],
   "source": [
    "calc_TP_TN_FP_FN(all1, all0)"
   ]
  },
  {
   "cell_type": "code",
   "execution_count": 242,
   "metadata": {},
   "outputs": [
    {
     "data": {
      "text/plain": [
       "(10, 0, 0, 0)"
      ]
     },
     "execution_count": 242,
     "metadata": {},
     "output_type": "execute_result"
    }
   ],
   "source": [
    "calc_TP_TN_FP_FN(all1, all1)"
   ]
  },
  {
   "cell_type": "code",
   "execution_count": 243,
   "metadata": {},
   "outputs": [
    {
     "data": {
      "text/plain": [
       "(0, 10, 0, 0)"
      ]
     },
     "execution_count": 243,
     "metadata": {},
     "output_type": "execute_result"
    }
   ],
   "source": [
    "calc_TP_TN_FP_FN(all0, all0)"
   ]
  },
  {
   "cell_type": "markdown",
   "metadata": {},
   "source": [
    "### Load the dataset.\n",
    "\n",
    "The following should ***not*** be modified.  After it runs, the various arrays it creates will contain the 2- or 3-feature input datasets."
   ]
  },
  {
   "cell_type": "code",
   "execution_count": 2,
   "metadata": {},
   "outputs": [
    {
     "ename": "NameError",
     "evalue": "name 'np' is not defined",
     "output_type": "error",
     "traceback": [
      "\u001b[1;31m---------------------------------------------------------------------------\u001b[0m",
      "\u001b[1;31mNameError\u001b[0m                                 Traceback (most recent call last)",
      "\u001b[1;32mc:\\Users\\adity\\Tufts University Online MS CS\\Fall Sem\\Intro to Machine Learning\\Assignment 3\\hw03\\src_data\\hw03.ipynb Cell 13\u001b[0m line \u001b[0;36m2\n\u001b[0;32m      <a href='vscode-notebook-cell:/c%3A/Users/adity/Tufts%20University%20Online%20MS%20CS/Fall%20Sem/Intro%20to%20Machine%20Learning/Assignment%203/hw03/src_data/hw03.ipynb#X15sZmlsZQ%3D%3D?line=0'>1</a>\u001b[0m \u001b[39m# Load the x-data and y-class arrays\u001b[39;00m\n\u001b[1;32m----> <a href='vscode-notebook-cell:/c%3A/Users/adity/Tufts%20University%20Online%20MS%20CS/Fall%20Sem/Intro%20to%20Machine%20Learning/Assignment%203/hw03/src_data/hw03.ipynb#X15sZmlsZQ%3D%3D?line=1'>2</a>\u001b[0m x_train \u001b[39m=\u001b[39m np\u001b[39m.\u001b[39mloadtxt(\u001b[39m'\u001b[39m\u001b[39m./data_cancer/x_train.csv\u001b[39m\u001b[39m'\u001b[39m, delimiter\u001b[39m=\u001b[39m\u001b[39m'\u001b[39m\u001b[39m,\u001b[39m\u001b[39m'\u001b[39m, skiprows\u001b[39m=\u001b[39m\u001b[39m1\u001b[39m)\n\u001b[0;32m      <a href='vscode-notebook-cell:/c%3A/Users/adity/Tufts%20University%20Online%20MS%20CS/Fall%20Sem/Intro%20to%20Machine%20Learning/Assignment%203/hw03/src_data/hw03.ipynb#X15sZmlsZQ%3D%3D?line=2'>3</a>\u001b[0m x_test \u001b[39m=\u001b[39m np\u001b[39m.\u001b[39mloadtxt(\u001b[39m'\u001b[39m\u001b[39m./data_cancer/x_test.csv\u001b[39m\u001b[39m'\u001b[39m, delimiter\u001b[39m=\u001b[39m\u001b[39m'\u001b[39m\u001b[39m,\u001b[39m\u001b[39m'\u001b[39m, skiprows\u001b[39m=\u001b[39m\u001b[39m1\u001b[39m)\n\u001b[0;32m      <a href='vscode-notebook-cell:/c%3A/Users/adity/Tufts%20University%20Online%20MS%20CS/Fall%20Sem/Intro%20to%20Machine%20Learning/Assignment%203/hw03/src_data/hw03.ipynb#X15sZmlsZQ%3D%3D?line=4'>5</a>\u001b[0m y_train \u001b[39m=\u001b[39m np\u001b[39m.\u001b[39mloadtxt(\u001b[39m'\u001b[39m\u001b[39m./data_cancer/y_train.csv\u001b[39m\u001b[39m'\u001b[39m, delimiter\u001b[39m=\u001b[39m\u001b[39m'\u001b[39m\u001b[39m,\u001b[39m\u001b[39m'\u001b[39m, skiprows\u001b[39m=\u001b[39m\u001b[39m1\u001b[39m)\n",
      "\u001b[1;31mNameError\u001b[0m: name 'np' is not defined"
     ]
    }
   ],
   "source": [
    "# Load the x-data and y-class arrays\n",
    "x_train = np.loadtxt('./data_cancer/x_train.csv', delimiter=',', skiprows=1)\n",
    "x_test = np.loadtxt('./data_cancer/x_test.csv', delimiter=',', skiprows=1)\n",
    "\n",
    "y_train = np.loadtxt('./data_cancer/y_train.csv', delimiter=',', skiprows=1)\n",
    "y_test = np.loadtxt('./data_cancer/y_test.csv', delimiter=',', skiprows=1)"
   ]
  },
  {
   "cell_type": "markdown",
   "metadata": {},
   "source": [
    "### 2: Compute the fraction of patients with cancer.\n",
    "\n",
    "Complete the following code.  Your solution needs to ***compute*** these values from the training and testing sets (i.e., don't simply hand-count and print the values)."
   ]
  },
  {
   "cell_type": "code",
   "execution_count": 3,
   "metadata": {},
   "outputs": [
    {
     "ename": "NameError",
     "evalue": "name 'np' is not defined",
     "output_type": "error",
     "traceback": [
      "\u001b[1;31m---------------------------------------------------------------------------\u001b[0m",
      "\u001b[1;31mNameError\u001b[0m                                 Traceback (most recent call last)",
      "\u001b[1;32mc:\\Users\\adity\\Tufts University Online MS CS\\Fall Sem\\Intro to Machine Learning\\Assignment 3\\hw03\\src_data\\hw03.ipynb Cell 15\u001b[0m line \u001b[0;36m2\n\u001b[0;32m      <a href='vscode-notebook-cell:/c%3A/Users/adity/Tufts%20University%20Online%20MS%20CS/Fall%20Sem/Intro%20to%20Machine%20Learning/Assignment%203/hw03/src_data/hw03.ipynb#X20sZmlsZQ%3D%3D?line=0'>1</a>\u001b[0m \u001b[39m# Compute the fraction of patients with cancer in the training set\u001b[39;00m\n\u001b[1;32m----> <a href='vscode-notebook-cell:/c%3A/Users/adity/Tufts%20University%20Online%20MS%20CS/Fall%20Sem/Intro%20to%20Machine%20Learning/Assignment%203/hw03/src_data/hw03.ipynb#X20sZmlsZQ%3D%3D?line=1'>2</a>\u001b[0m frac_cancer_train \u001b[39m=\u001b[39m np\u001b[39m.\u001b[39mmean(y_train \u001b[39m==\u001b[39m \u001b[39m1\u001b[39m)\n\u001b[0;32m      <a href='vscode-notebook-cell:/c%3A/Users/adity/Tufts%20University%20Online%20MS%20CS/Fall%20Sem/Intro%20to%20Machine%20Learning/Assignment%203/hw03/src_data/hw03.ipynb#X20sZmlsZQ%3D%3D?line=3'>4</a>\u001b[0m \u001b[39m# Compute the fraction of patients with cancer in the testing set\u001b[39;00m\n\u001b[0;32m      <a href='vscode-notebook-cell:/c%3A/Users/adity/Tufts%20University%20Online%20MS%20CS/Fall%20Sem/Intro%20to%20Machine%20Learning/Assignment%203/hw03/src_data/hw03.ipynb#X20sZmlsZQ%3D%3D?line=4'>5</a>\u001b[0m frac_cancer_test \u001b[39m=\u001b[39m np\u001b[39m.\u001b[39mmean(y_test \u001b[39m==\u001b[39m \u001b[39m1\u001b[39m)\n",
      "\u001b[1;31mNameError\u001b[0m: name 'np' is not defined"
     ]
    }
   ],
   "source": [
    "# Compute the fraction of patients with cancer in the training set\n",
    "frac_cancer_train = np.mean(y_train == 1)\n",
    "\n",
    "# Compute the fraction of patients with cancer in the testing set\n",
    "frac_cancer_test = np.mean(y_test == 1)\n",
    "\n",
    "# Print the results\n",
    "\n",
    "print(\"Fraction of data that has_cancer on TRAIN: %.3f\" % frac_cancer_train) #TODO: modify these prints\n",
    "print(\"fraction of data that has_cancer on TEST : %.3f\" % frac_cancer_test)"
   ]
  },
  {
   "cell_type": "markdown",
   "metadata": {},
   "source": [
    "### 3: The predict-0-always baseline\n",
    "\n",
    "#### (a) Compute the accuracy of the always-0 classifier.\n",
    "\n",
    "Complete the code to compute and print the accuracy of the always-0 classifier on validation and test outputs."
   ]
  },
  {
   "cell_type": "code",
   "execution_count": 246,
   "metadata": {},
   "outputs": [
    {
     "name": "stdout",
     "output_type": "stream",
     "text": [
      "acc on TRAIN: 0.860\n",
      "acc on TEST : 0.861\n"
     ]
    }
   ],
   "source": [
    "# Always-0 classifier predictions\n",
    "y_pred_always_0_train = np.zeros_like(y_train)\n",
    "y_pred_always_0_test = np.zeros_like(y_test)\n",
    "\n",
    "# Compute accuracy on the training set\n",
    "accuracy_train = np.mean(y_pred_always_0_train == y_train)\n",
    "\n",
    "# Compute accuracy on the test set\n",
    "accuracy_test = np.mean(y_pred_always_0_test == y_test)\n",
    "\n",
    "# Print the accuracies\n",
    "\n",
    "print(\"acc on TRAIN: %.3f\" % accuracy_train) #TODO: modify these values\n",
    "print(\"acc on TEST : %.3f\" % accuracy_test)"
   ]
  },
  {
   "cell_type": "markdown",
   "metadata": {},
   "source": [
    "#### (b) Print a confusion matrix for the always-0 classifier.\n",
    "\n",
    "Add code below to generate a confusion matrix for the always-0 classifier on the test set."
   ]
  },
  {
   "cell_type": "code",
   "execution_count": 247,
   "metadata": {},
   "outputs": [
    {
     "name": "stdout",
     "output_type": "stream",
     "text": [
      "Confusion matrix for the always-0 classifier on TEST:\n",
      "Predicted    0  1\n",
      "True             \n",
      "0          155  0\n",
      "1           25  0\n"
     ]
    }
   ],
   "source": [
    "# TODO: call print(calc_confusion_matrix_for_threshold(...))\n",
    "\n",
    "# Generate the confusion matrix for the always-0 classifier on the test set\n",
    "confusion_matrix_always_0_test = calc_confusion_matrix_for_threshold(y_test, y_pred_always_0_test)\n",
    "\n",
    "# Print the confusion matrix\n",
    "print(\"Confusion matrix for the always-0 classifier on TEST:\")\n",
    "print(confusion_matrix_always_0_test)"
   ]
  },
  {
   "cell_type": "markdown",
   "metadata": {},
   "source": [
    "#### (c) Reflect on the accuracy of the always-0 classifier.\n",
    "\n",
    "**Answer**: \n",
    "\n",
    "I calculated the accuracy of this classifier by using this formula: Accuracy = (Correct Predictions) / (Total Predictons) = (TP+TN)/(TP+TN+FP+FN) with TP = True Positive FP = False Positive TN = True Negative and FN = False Negative.\n",
    "\n",
    "I then plugged in the numbers from the matrix into this formula like this: (0+155)/(0+155+0+25). The result is that the accuracy is 86.11%.\n",
    "\n",
    "So, the accuracy on the TEST dataset is 86.11%. So, the majority of class 0 is correctly predicted, but it's poor in identifying the minority class 1. So, it's not a good classifier overall."
   ]
  },
  {
   "cell_type": "markdown",
   "metadata": {},
   "source": [
    "#### (d) Analyze the various costs of using the always-0 classifier.\n",
    "\n",
    "\n",
    "**Answer**: \n",
    "\n",
    "There are many costs in using this classifier.\n",
    "\n",
    "There's high accuracy on the majority class, but can be misleading if the dataset is imbalanced and biases will be present in the model evaluation metrics. Also, there's low accuracy on the minority class, loss of information since input fueatures are ignored, and no good anomaly detection if class 0 represents normal instances and class 1 represents anomalies.\n",
    "\n",
    "This result in a lack of trust in users and stakeholders if a system uses this classifier and these issues are present."
   ]
  },
  {
   "cell_type": "markdown",
   "metadata": {},
   "source": [
    "### 4: Basic Perceptron Models\n",
    "\n",
    "#### (a) Create a basic `Perceptron` classifier\n",
    "\n",
    "Fit a perceptron to the training data.  Print out accuracy on this data, as well as on testing data.  Print out a confusion matrix on the testing data."
   ]
  },
  {
   "cell_type": "code",
   "execution_count": 248,
   "metadata": {},
   "outputs": [
    {
     "name": "stdout",
     "output_type": "stream",
     "text": [
      "acc on TRAIN: 0.402\n",
      "acc on TEST : 0.494\n",
      "Confusion matrix for the test data:\n",
      "Predicted   0   1\n",
      "True             \n",
      "0          64  91\n",
      "1           0  25\n"
     ]
    }
   ],
   "source": [
    "from sklearn.linear_model import Perceptron\n",
    "from sklearn.preprocessing import MinMaxScaler\n",
    "# Create and fit a Perceptron model\n",
    "scaler = MinMaxScaler()\n",
    "x_train = scaler.fit_transform(x_train)\n",
    "x_test = scaler.transform(x_test)\n",
    "perceptron_model = Perceptron()\n",
    "perceptron_model.fit(x_train, y_train)\n",
    "\n",
    "# Predict on training and test data\n",
    "y_pred_train = perceptron_model.predict(x_train)\n",
    "y_pred_test = perceptron_model.predict(x_test)\n",
    "\n",
    "# Calculate accuracy on training and test data\n",
    "accuracy_train = np.mean(y_pred_train == y_train)\n",
    "accuracy_test = np.mean(y_pred_test == y_test)\n",
    "\n",
    "# Print the accuracies\n",
    "print(\"acc on TRAIN: %.3f\" % accuracy_train) #TODO: modify these values\n",
    "print(\"acc on TEST : %.3f\" % accuracy_test)\n",
    "\n",
    "# TODO: call print(calc_confusion_matrix_for_threshold(...))\n",
    "\n",
    "# Print the confusion matrix for the test data\n",
    "confusion_matrix_test = calc_confusion_matrix_for_threshold(y_test, y_pred_test)\n",
    "print(\"Confusion matrix for the test data:\")\n",
    "print(confusion_matrix_test)"
   ]
  },
  {
   "cell_type": "markdown",
   "metadata": {},
   "source": [
    "#### (b) Compare the `Perceptron` to the always-0 classifier.\n",
    "\n",
    "**Answer**: \n",
    "\n",
    "The always-0 classifier has a much higher accuracy on the TEST data compared to the Perceptron classifier. It also predicts all instances as class 0, which results in a high accuracy but poor performance, especially for class 1, where it fails to predict any instances correctly.\n",
    "\n",
    "The Perceptron classifier, while having a lower accuracy, at least makes some positive predictions for class 1. However, its overall accuracy is still low.\n",
    "\n",
    "Overall, the always-0 classifier outperforms the basic Perceptron classifier in terms of accuracy on this particular dataset. The Perceptron classifier struggles to correctly classify both classes and has room for improvement, possibly through more advanced models or feature engineering.\n"
   ]
  },
  {
   "cell_type": "markdown",
   "metadata": {},
   "source": [
    "#### (c) Generate a series of regularized perceptron models\n",
    "Each model will use a different `alpha` value, multiplying that by the L2 penalty.  You will record and plot the accuracy of each model on both training and test data."
   ]
  },
  {
   "cell_type": "code",
   "execution_count": 249,
   "metadata": {},
   "outputs": [],
   "source": [
    "from sklearn.linear_model import Perceptron\n",
    "\n",
    "# Define a range of alpha values on a logarithmic scale\n",
    "alphas = np.logspace(-5, 5, base=10, num=100)\n",
    "\n",
    "train_accuracy_list = list()\n",
    "test_accuracy_list = list()\n",
    "\n",
    "# Iterate through each alpha value\n",
    "for alpha in alphas:\n",
    "    # Create a regularized perceptron model with the specified alpha\n",
    "    perceptron = Perceptron(penalty='l2', alpha=alpha, random_state=42)\n",
    "    \n",
    "    # Fit the model to the training data\n",
    "    perceptron.fit(x_train, y_train)\n",
    "    \n",
    "    # Calculate and record the training accuracy\n",
    "    train_accuracy = perceptron.score(x_train, y_train)\n",
    "    train_accuracy_list.append(train_accuracy)\n",
    "    \n",
    "    # Calculate and record the test accuracy\n",
    "    test_accuracy = perceptron.score(x_test, y_test)\n",
    "    test_accuracy_list.append(test_accuracy)\n",
    "\n",
    "# TODO: create, fit models here and record accuracy of each\n",
    "\n"
   ]
  },
  {
   "cell_type": "markdown",
   "metadata": {},
   "source": [
    "##### Plot accuracy on train/test data across the different alpha values."
   ]
  },
  {
   "cell_type": "code",
   "execution_count": 261,
   "metadata": {},
   "outputs": [
    {
     "data": {
      "image/png": "[encoded data removed]",
      "text/plain": [
       "<Figure size 1000x600 with 1 Axes>"
      ]
     },
     "metadata": {},
     "output_type": "display_data"
    }
   ],
   "source": [
    "# TODO make plot\n",
    "'''\n",
    "# Create a figure and axis for the plot\n",
    "plt.figure(figsize=(10, 6))\n",
    "\n",
    "# Plot training accuracy against log(alpha) with a blue line\n",
    "plt.semilogx(np.log10(alphas), train_accuracy_list, label='Training Accuracy', color='blue')\n",
    "\n",
    "# Plot test accuracy against log(alpha) with an orange line\n",
    "plt.semilogx(np.log10(alphas), test_accuracy_list, label='Test Accuracy', color='orange')\n",
    "\n",
    "# Add labels to the x and y axes\n",
    "plt.xlabel('log_10(alpha)')\n",
    "plt.ylabel('Accuracy')\n",
    "\n",
    "# TODO add legend, titles, etc.\n",
    "# plt.legend(...);\n",
    "\n",
    "# Add a legend to distinguish between training and test accuracy lines\n",
    "plt.legend()\n",
    "\n",
    "# Add a title to the plot\n",
    "plt.title('Accuracy vs. log(alpha) for Regularized Perceptron')\n",
    "\n",
    "# Show the grid\n",
    "plt.grid(True)\n",
    "\n",
    "# Display the plot\n",
    "plt.show()\n",
    "'''\n",
    "\n",
    "# Plot the accuracy values against the alpha values\n",
    "plt.figure(figsize=(8, 6))\n",
    "plt.semilogx(alphas, train_accuracy_list, label='Training Accuracy')\n",
    "plt.semilogx(alphas, test_accuracy_list, label='Test Accuracy')\n",
    "plt.xlabel('Alpha (Regularization Strength)')\n",
    "plt.ylabel('Accuracy')\n",
    "plt.legend()\n",
    "plt.title('Accuracy vs. Regularization Strength')\n",
    "plt.grid(True)\n",
    "plt.show()\n"
   ]
  },
  {
   "cell_type": "markdown",
   "metadata": {},
   "source": [
    "#### (d) Discuss what the plot is showing you.\n",
    "\n",
    "**Answer**: \n",
    "\n",
    "The plot shows that the training and testing data are almost the same from the 10^-4 to 10^4 alpha strength. There's a lot of variance from 10^-4 to a little over 10^-2 alpha until it flat lines at 0.860 and 0.861 for the training and test accuracy at about 10^-1 alpha. \n",
    "\n",
    "Overall, the accuracy on the testing and training data is high and about the same for both when it comes to the perceptron models."
   ]
  },
  {
   "cell_type": "markdown",
   "metadata": {},
   "source": [
    "### 5: Decision functions and probabilistic predictions\n",
    "\n",
    "#### (a) Create two new sets of predictions\n",
    "\n",
    "Fit `Perceptron` and `CalibratedClassifierCV` models to the data.  Use their predictions to generate ROC curves. "
   ]
  },
  {
   "cell_type": "code",
   "execution_count": 251,
   "metadata": {},
   "outputs": [
    {
     "name": "stderr",
     "output_type": "stream",
     "text": [
      "c:\\Users\\adity\\anaconda3\\envs\\ml135_env_sp21\\Lib\\site-packages\\sklearn\\calibration.py:300: FutureWarning: `base_estimator` was renamed to `estimator` in version 1.2 and will be removed in 1.4.\n",
      "  warnings.warn(\n"
     ]
    }
   ],
   "source": [
    "# TODO: fit a Perceptron and generate its decision_function() over the test data.\n",
    "\n",
    "# TODO: Build a CalibratedClassifierCV, using a Perceptron as its base_estimator, \n",
    "#       and generate its probabilistic predictions over the test data.\n",
    "\n",
    "from sklearn.linear_model import Perceptron\n",
    "from sklearn.calibration import CalibratedClassifierCV\n",
    "from sklearn.metrics import roc_curve, roc_auc_score\n",
    "\n",
    "# Create and fit a Perceptron model\n",
    "perceptron_model = Perceptron()\n",
    "perceptron_model.fit(x_train, y_train)\n",
    "\n",
    "# Generate decision function for the Perceptron\n",
    "y_score_perceptron = perceptron_model.decision_function(x_test)\n",
    "\n",
    "# Create and fit a CalibratedClassifierCV model using the Perceptron as the base estimator\n",
    "calibrated_model = CalibratedClassifierCV(base_estimator=perceptron_model, method='isotonic')\n",
    "calibrated_model.fit(x_train, y_train)\n",
    "\n",
    "# Generate probabilistic predictions for the calibrated model\n",
    "y_prob_calibrated = calibrated_model.predict_proba(x_test)[:, 1]\n",
    "\n",
    "# Compute ROC curve and AUC for the Perceptron\n",
    "fpr_perceptron, tpr_perceptron, _ = roc_curve(y_test, y_score_perceptron)\n",
    "auc_perceptron = roc_auc_score(y_test, y_score_perceptron)\n",
    "\n",
    "# Compute ROC curve and AUC for the probabilistic model\n",
    "fpr_calibrated, tpr_calibrated, _ = roc_curve(y_test, y_prob_calibrated)\n",
    "auc_calibrated = roc_auc_score(y_test, y_prob_calibrated)\n"
   ]
  },
  {
   "cell_type": "code",
   "execution_count": 252,
   "metadata": {},
   "outputs": [
    {
     "data": {
      "image/png": "[encoded data removed]",
      "text/plain": [
       "<Figure size 800x600 with 1 Axes>"
      ]
     },
     "metadata": {},
     "output_type": "display_data"
    }
   ],
   "source": [
    "# TODO something like: fpr, tpr, thr = sklearn.metrics.roc_curve(...)\n",
    "\n",
    "# Plot ROC curves\n",
    "plt.figure(figsize=(8, 6))\n",
    "plt.plot(fpr_perceptron, tpr_perceptron, label='Perceptron (AUC = %.3f)' % auc_perceptron)\n",
    "plt.plot(fpr_calibrated, tpr_calibrated, label='Probabilistic Model (AUC = %.3f)' % auc_calibrated)\n",
    "plt.ylim([0, 1])\n",
    "plt.xlabel(\"False Postive rate (FPR)\")\n",
    "plt.ylabel(\"True Postive rate (TPR)\")\n",
    "plt.legend()\n",
    "plt.title(\"ROC Curves for Perceptron and Probabilistic Model\")\n",
    "plt.show()\n"
   ]
  },
  {
   "cell_type": "code",
   "execution_count": 253,
   "metadata": {},
   "outputs": [
    {
     "name": "stdout",
     "output_type": "stream",
     "text": [
      "AUC on TEST for Perceptron: 0.884\n",
      "AUC on TEST for probabilistic model: 0.886\n"
     ]
    }
   ],
   "source": [
    "print(\"AUC on TEST for Perceptron: %.3f\" % auc_perceptron) #TODO: modify these values\n",
    "print(\"AUC on TEST for probabilistic model: %.3f\" % auc_calibrated)"
   ]
  },
  {
   "cell_type": "markdown",
   "metadata": {},
   "source": [
    "#### (b) Discuss the results above\n",
    "\n",
    "**Answer**: \n",
    "\n",
    "The results indicate that both the Perceptron and the probabilistic model perform reasonably well in distinguishing between positive and negative classes based on the ROC AUC (Receiver Operating Characteristic Area Under the Curve) values. \n",
    "\n",
    "\n",
    "The AUC on the test data for the Perceptron is 0.884. This means that when the Perceptron is used as a binary classifier, it can effectively separate the two classes, achieving a good trade-off between true positive rate (sensitivity) and false positive rate (1-specificity).\n",
    "\n",
    "The AUC on the test data for the probabilistic model, which uses the CalibratedClassifierCV with the Perceptron as its base estimator, is slightly higher at 0.886. This suggests that the probabilistic model provides a slightly better separation of the classes, although the difference is relatively small.\n",
    "\n",
    "Both models perform well in distinguishing between the classes, with the probabilistic model having a slightly higher AUC. However, the choice between the two models may also depend on other factors, such as the specific requirements of your application and whether you need probability estimates in addition to binary classification."
   ]
  },
  {
   "cell_type": "markdown",
   "metadata": {},
   "source": [
    "#### (c) Compute model metrics for different probabilistic thresholds\n",
    "\n",
    "Complete the function that takes in a set of correct outputs, a matching set of probabilities generated by a classifier, and a threshold at which to set the positive decision probability, and returns a set of metrics if we use that threshold."
   ]
  },
  {
   "cell_type": "code",
   "execution_count": 254,
   "metadata": {},
   "outputs": [],
   "source": [
    "def calc_perf_metrics_for_threshold(ytrue_N, yproba1_N, thresh=0.5):\n",
    "    ''' Compute performance metrics for a given probabilistic classifier and threshold\n",
    "    Args\n",
    "    ----\n",
    "    ytrue_N : 1D array of floats\n",
    "        Each entry represents the binary value (0 or 1) of 'true' label of one example\n",
    "        One entry per example in current dataset\n",
    "    yproba1_N : 1D array of floats\n",
    "        Each entry represents a probability (between 0 and 1) that correct label is positive (1)\n",
    "        One entry per example in current dataset\n",
    "        Needs to be same size as ytrue_N\n",
    "    thresh : float\n",
    "        Scalar threshold for converting probabilities into hard decisions\n",
    "        Calls an example \"positive\" if yproba1 >= thresh\n",
    "        Default value reflects a majority-classification approach (class is the one that gets\n",
    "        highest probability)\n",
    "\n",
    "    Returns\n",
    "    -------\n",
    "    acc : accuracy of predictions\n",
    "    tpr : true positive rate of predictions\n",
    "    tnr : true negative rate of predictions\n",
    "    ppv : positive predictive value of predictions\n",
    "    npv : negative predictive value of predictions\n",
    "    '''\n",
    "\n",
    "    y_pred_N = (yproba1_N >= thresh).astype(int)\n",
    "    \n",
    "    TP = np.sum((y_pred_N == 1) & (ytrue_N == 1))\n",
    "    TN = np.sum((y_pred_N == 0) & (ytrue_N == 0))\n",
    "    FP = np.sum((y_pred_N == 1) & (ytrue_N == 0))\n",
    "    FN = np.sum((y_pred_N == 0) & (ytrue_N == 1))\n",
    "    # TODO: fix this\n",
    "    acc = (TP+TN) / (TP+TN+FP+FN)\n",
    "    if TP+TN == 0:\n",
    "        tpr = 0\n",
    "    else:\n",
    "        tpr = TP / (TP+FN)\n",
    "    if TN + FP == 0:\n",
    "        tnr = 0\n",
    "    else:\n",
    "        tnr = TP / (TP+FN)\n",
    "    if TP + FP == 0:\n",
    "        ppv = 0\n",
    "    else:\n",
    "        ppv = TP / (TP + FP)\n",
    "    if TN + FN == 0:\n",
    "        npv = 0\n",
    "    else:\n",
    "        npv = TN / (TN + FN)\n",
    "    \n",
    "    return acc, tpr, tnr, ppv, npv\n",
    "\n",
    "# You can use this function later to make printing results easier; don't change it.\n",
    "def print_perf_metrics_for_threshold(ytrue_N, yproba1_N, thresh=0.5):\n",
    "    ''' Pretty print perf. metrics for a given probabilistic classifier and threshold\n",
    "    '''\n",
    "    acc, tpr, tnr, ppv, npv = calc_perf_metrics_for_threshold(ytrue_N, yproba1_N, thresh)\n",
    "    \n",
    "    ## Pretty print the results\n",
    "    print(\"%.3f ACC\" % acc)\n",
    "    print(\"%.3f TPR\" % tpr)\n",
    "    print(\"%.3f TNR\" % tnr)\n",
    "    print(\"%.3f PPV\" % ppv)\n",
    "    print(\"%.3f NPV\" % npv)"
   ]
  },
  {
   "cell_type": "markdown",
   "metadata": {},
   "source": [
    "#### (d) Compare the probabilistic classifier across multiple decision thresholds\n",
    "\n",
    "Try a range of thresholds for classifying data into the positive class (1).  For each threshold, compute the true postive rate (TPR) and positive predictive value (PPV).  Record the best value of each metric, along with the threshold that achieves it, and the *other* metric at that threshold."
   ]
  },
  {
   "cell_type": "code",
   "execution_count": 255,
   "metadata": {},
   "outputs": [],
   "source": [
    "# TODO: test different thresholds to compute these values\n",
    "thresholds = np.linspace(0, 1.001, 51)\n",
    "\n",
    "best_TPR = 0\n",
    "best_PPV_for_best_TPR = 0\n",
    "best_TPR_threshold = 0\n",
    "\n",
    "best_PPV = 0\n",
    "best_TPR_for_best_PPV = 0  \n",
    "best_PPV_threshold = 0\n",
    "\n",
    "for threshold in thresholds:\n",
    "    acc, tpr, tnr, ppv, npv = calc_perf_metrics_for_threshold(y_test, y_prob_calibrated, threshold)\n",
    "    \n",
    "    # Check if the current threshold achieves a better TPR or PPV\n",
    "    if tpr > best_TPR:\n",
    "        best_TPR = tpr\n",
    "        best_TPR_threshold = threshold\n",
    "        best_PPV_for_best_TPR = ppv\n",
    "    \n",
    "    if ppv > best_PPV:\n",
    "        best_PPV = ppv\n",
    "        best_PPV_threshold = threshold\n",
    "        best_TPR_for_best_PPV = tpr\n"
   ]
  },
  {
   "cell_type": "code",
   "execution_count": 256,
   "metadata": {},
   "outputs": [
    {
     "name": "stdout",
     "output_type": "stream",
     "text": [
      "TPR threshold: 0.0000 => TPR: 1.0000; PPV: 0.1389\n",
      "PPV threshold: 0.6206 => PPV: 1.0000; TPR: 0.2000\n"
     ]
    }
   ],
   "source": [
    "print(\"TPR threshold: %.4f => TPR: %.4f; PPV: %.4f\" % (best_TPR_threshold, best_TPR, best_PPV_for_best_TPR))\n",
    "print(\"PPV threshold: %.4f => PPV: %.4f; TPR: %.4f\" % (best_PPV_threshold, best_PPV, best_TPR_for_best_PPV))"
   ]
  },
  {
   "cell_type": "markdown",
   "metadata": {},
   "source": [
    "#### (e) Exploring diffrerent thresholds\n",
    "\n",
    "#### (i) Using default 0.5 threshold. \n",
    "\n",
    "Generate confusion matrix and metrics for probabilistic classifier, using threshold 0.5."
   ]
  },
  {
   "cell_type": "code",
   "execution_count": 264,
   "metadata": {},
   "outputs": [
    {
     "name": "stdout",
     "output_type": "stream",
     "text": [
      "ON THE TEST SET:\n",
      "Chosen best threshold = 0.5000\n",
      "\n",
      "Predicted    0   1\n",
      "True              \n",
      "0          150   5\n",
      "1           15  10\n",
      "\n",
      "0.889 ACC\n",
      "0.400 TPR\n",
      "0.400 TNR\n",
      "0.667 PPV\n",
      "0.909 NPV\n"
     ]
    }
   ],
   "source": [
    "best_thr = 0.5\n",
    "print(\"ON THE TEST SET:\")\n",
    "print(\"Chosen best threshold = %.4f\" % best_thr)\n",
    "print(\"\")\n",
    "# TODO: print(calc_confusion_matrix_for_threshold(...))\n",
    "# Compute and print the confusion matrix\n",
    "cm_default = calc_confusion_matrix_for_threshold(y_test,y_prob_calibrated, best_thr)\n",
    "print(cm_default)\n",
    "# TODO: print_perf_metrics_for_threshold(...)\n",
    "# Compute and print the performance metrics\n",
    "print(\"\")\n",
    "print_perf_metrics_for_threshold(y_test, y_prob_calibrated, best_thr)"
   ]
  },
  {
   "cell_type": "markdown",
   "metadata": {},
   "source": [
    "#### (ii) Using threshold with highest TPR. \n",
    "\n",
    "Generate confusion matrix and metrics for probabilistic classifier, using threshold that maximizes TPR."
   ]
  },
  {
   "cell_type": "code",
   "execution_count": 265,
   "metadata": {},
   "outputs": [
    {
     "name": "stdout",
     "output_type": "stream",
     "text": [
      "ON THE TEST SET:\n",
      "Chosen best threshold = 0.0000\n",
      "\n",
      "Predicted  0    1\n",
      "True             \n",
      "0          0  155\n",
      "1          0   25\n",
      "\n",
      "0.139 ACC\n",
      "1.000 TPR\n",
      "1.000 TNR\n",
      "0.139 PPV\n",
      "0.000 NPV\n"
     ]
    }
   ],
   "source": [
    "best_thr = best_TPR_threshold\n",
    "print(\"ON THE TEST SET:\")\n",
    "print(\"Chosen best threshold = %.4f\" % best_thr)\n",
    "print(\"\")\n",
    "# TODO: print(calc_confusion_matrix_for_threshold(...))\n",
    "# Compute and print the confusion matrix\n",
    "cm_best_TPR = calc_confusion_matrix_for_threshold(y_test, y_prob_calibrated, best_thr)\n",
    "print(cm_best_TPR)\n",
    "\n",
    "print(\"\")\n",
    "# TODO: print_perf_metrics_for_threshold(...)\n",
    "# Compute and print the performance metrics\n",
    "print_perf_metrics_for_threshold(y_test, y_prob_calibrated, best_thr)\n"
   ]
  },
  {
   "cell_type": "markdown",
   "metadata": {},
   "source": [
    "#### (iii) Using threshold with highest PPV. \n",
    "\n",
    "Generate confusion matrix and metrics for probabilistic classifier, using threshold that maximizes PPV."
   ]
  },
  {
   "cell_type": "code",
   "execution_count": 259,
   "metadata": {},
   "outputs": [
    {
     "name": "stdout",
     "output_type": "stream",
     "text": [
      "ON THE TEST SET:\n",
      "Chosen best threshold = 0.6206\n",
      "\n",
      "Predicted    0  1\n",
      "True             \n",
      "0          155  0\n",
      "1           20  5\n",
      "\n",
      "0.889 ACC\n",
      "0.200 TPR\n",
      "0.200 TNR\n",
      "1.000 PPV\n",
      "0.886 NPV\n"
     ]
    }
   ],
   "source": [
    "best_thr = best_PPV_threshold\n",
    "print(\"ON THE TEST SET:\")\n",
    "print(\"Chosen best threshold = %.4f\" % best_thr)\n",
    "print(\"\")\n",
    "# TODO: print(calc_confusion_matrix_for_threshold(...))\n",
    "# Compute and print the confusion matrix\n",
    "cm_best_PPV = calc_confusion_matrix_for_threshold(y_test, y_prob_calibrated, best_thr)\n",
    "print(cm_best_PPV)\n",
    "print(\"\")\n",
    "# TODO: print_perf_metrics_for_threshold(...)\n",
    "# Compute and print the performance metrics\n",
    "print_perf_metrics_for_threshold(y_test, y_prob_calibrated, best_thr)\n"
   ]
  },
  {
   "cell_type": "markdown",
   "metadata": {},
   "source": [
    "#### (iv) Compare the confusion matrices from (a)–(c) to analyze the different thresholds.\n",
    "\n",
    "**Answer**: \n",
    "\n",
    "Using the default threshold (0.5) provides a balanced trade-off between TPR and PPV, resulting in reasonably balanced performance metrics.\n",
    "\n",
    "Setting the threshold for the highest TPR (0.0000) results in a very high TPR (1.000), meaning that all true positives are captured, but it comes at the cost of a very low PPV (0.139), resulting in a high rate of false positives.\n",
    "\n",
    "Setting the threshold for the highest PPV (0.6206) leads to a very high PPV (1.000), indicating a low rate of false positives. However, it comes at the expense of a low TPR (0.200), meaning that some true positives are missed.\n",
    "\n",
    "The choice of threshold depends on the specific requirements of the problem and the trade-offs between TPR and PPV. A threshold that maximizes TPR is suitable when capturing all true positives is critical, even if it results in more false positives. Conversely, a threshold that maximizes PPV is suitable when minimizing false positives is a higher priority, even if it means missing some true positives.\n",
    "\n",
    "It's essential to consider the application's context and goals when selecting an appropriate threshold."
   ]
  },
  {
   "cell_type": "markdown",
   "metadata": {},
   "source": []
  }
 ],
 "metadata": {
  "kernelspec": {
   "display_name": "Python 3",
   "language": "python",
   "name": "python3"
  },
  "language_info": {
   "codemirror_mode": {
    "name": "ipython",
    "version": 3
   },
   "file_extension": ".py",
   "mimetype": "text/x-python",
   "name": "python",
   "nbconvert_exporter": "python",
   "pygments_lexer": "ipython3",
   "version": "3.11.5"
  }
 },
 "nbformat": 4,
 "nbformat_minor": 2
}
